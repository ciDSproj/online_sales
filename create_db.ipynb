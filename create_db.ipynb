{
 "cells": [
  {
   "cell_type": "markdown",
   "id": "17405f0b",
   "metadata": {},
   "source": [
    "## Online Sales Data"
   ]
  },
  {
   "cell_type": "markdown",
   "id": "d8a30aba",
   "metadata": {},
   "source": [
    "### Create SQLite database 'online_sales.db'"
   ]
  },
  {
   "cell_type": "markdown",
   "id": "8def4cd7",
   "metadata": {},
   "source": [
    "Here I created a SQLite database using the <a href=\"https://www.kaggle.com/datasets/shreyanshverma27/online-sales-dataset-popular-marketplace-data\">Online Sales Dataset</a>\n",
    "from <a href='https://www.kaggle.com/'>Kaggle</a>. For creating the database it is used the SQLite3 module in Python. \n",
    "\n",
    "Then data was retrieved from the database in a Pandas dataframe. It will be used further for Exploratory Data Analysis."
   ]
  },
  {
   "cell_type": "code",
   "execution_count": null,
   "id": "9b8b7ca9",
   "metadata": {},
   "outputs": [],
   "source": [
    "# Importing libraries\n",
    "import sqlite3\n",
    "import csv"
   ]
  },
  {
   "cell_type": "code",
   "execution_count": 2,
   "id": "1184fb69",
   "metadata": {},
   "outputs": [
    {
     "name": "stdout",
     "output_type": "stream",
     "text": [
      "(240, 9)\n",
      "   Transaction_ID      Date Product_Category             Product_Name  \\\n",
      "0           10001  1/1/2024      Electronics            iPhone 14 Pro   \n",
      "1           10002  1/2/2024  Home Appliances         Dyson V11 Vacuum   \n",
      "2           10003  1/3/2024         Clothing         Levi's 501 Jeans   \n",
      "3           10004  1/4/2024            Books        The Da Vinci Code   \n",
      "4           10005  1/5/2024  Beauty Products  Neutrogena Skincare Set   \n",
      "\n",
      "   Units_Sold  Unit_Price  Total_Revenue         Region Payment_Method  \n",
      "0           2      999.99        1999.98  North America    Credit Card  \n",
      "1           1      499.99         499.99         Europe         PayPal  \n",
      "2           3       69.99         209.97           Asia     Debit Card  \n",
      "3           4       15.99          63.96  North America    Credit Card  \n",
      "4           1       89.99          89.99         Europe         PayPal  \n"
     ]
    }
   ],
   "source": [
    "# Open csv file/read data/extract data \n",
    "with open('Online Sales Data.csv', 'r') as file_obj:           \n",
    "    reader_obj = csv.DictReader(file_obj)           \n",
    "    sales_info = [(i['Transaction_ID'], i['Date'], i['Product_Category'], i['Product_Name'], i['Units_Sold'], i['Unit_Price'],\n",
    "               i['Total_Revenue'], i['Region'], i['Payment_Method']) for i in reader_obj]\n",
    "\n",
    "# Create the connection object\n",
    "conn = sqlite3.connect('online_sales.db')\n",
    "\n",
    "# Create cursor object\n",
    "c = conn.cursor()\n",
    "\n",
    "# Create 'sales' table\n",
    "c.execute('''CREATE TABLE sales (Transaction_ID int, Date text, Product_Category text, Product_Name text, \n",
    "                                Units_Sold int, Unit_Price real, Total_Revenue real, Region text, \n",
    "                                Payment_Method text);''')  \n",
    "\n",
    "# Insert values into the table from the csv file\n",
    "c.executemany('''\n",
    "                INSERT INTO sales ('Transaction_ID', 'Date', 'Product_Category', 'Product_Name',\n",
    "                                 'Units_Sold', 'Unit_Price', 'Total_Revenue', 'Region', 'Payment_Method') \n",
    "                VALUES (?, ?, ?, ?, ?, ?, ?, ?, ?);''', sales_info)\n",
    "\n",
    "# Commit data\n",
    "conn.commit() \n",
    "\n",
    "# Query db\n",
    "sql_query = pd.read_sql_query ('''SELECT * FROM sales''', conn)        \n",
    "\n",
    "# Create Pandas dataframe\n",
    "sales_data = pd.DataFrame(sql_query, columns = ['Transaction_ID', 'Date', 'Product_Category', 'Product_Name',\n",
    "                                            'Units_Sold', 'Unit_Price', 'Total_Revenue', 'Region', 'Payment_Method'])\n",
    "\n",
    "# Display data\n",
    "print (sales_data.shape)\n",
    "print(sales_data.head())\n",
    "\n",
    "# Close db connection\n",
    "conn.close()"
   ]
  },
  {
   "cell_type": "code",
   "execution_count": 3,
   "id": "f42b7190",
   "metadata": {},
   "outputs": [
    {
     "name": "stdout",
     "output_type": "stream",
     "text": [
      "(240, 9)\n"
     ]
    },
    {
     "data": {
      "text/html": [
       "<div>\n",
       "<style scoped>\n",
       "    .dataframe tbody tr th:only-of-type {\n",
       "        vertical-align: middle;\n",
       "    }\n",
       "\n",
       "    .dataframe tbody tr th {\n",
       "        vertical-align: top;\n",
       "    }\n",
       "\n",
       "    .dataframe thead th {\n",
       "        text-align: right;\n",
       "    }\n",
       "</style>\n",
       "<table border=\"1\" class=\"dataframe\">\n",
       "  <thead>\n",
       "    <tr style=\"text-align: right;\">\n",
       "      <th></th>\n",
       "      <th>Transaction_ID</th>\n",
       "      <th>Date</th>\n",
       "      <th>Product_Category</th>\n",
       "      <th>Product_Name</th>\n",
       "      <th>Units_Sold</th>\n",
       "      <th>Unit_Price</th>\n",
       "      <th>Total_Revenue</th>\n",
       "      <th>Region</th>\n",
       "      <th>Payment_Method</th>\n",
       "    </tr>\n",
       "  </thead>\n",
       "  <tbody>\n",
       "    <tr>\n",
       "      <th>0</th>\n",
       "      <td>10001</td>\n",
       "      <td>1/1/2024</td>\n",
       "      <td>Electronics</td>\n",
       "      <td>iPhone 14 Pro</td>\n",
       "      <td>2</td>\n",
       "      <td>999.99</td>\n",
       "      <td>1999.98</td>\n",
       "      <td>North America</td>\n",
       "      <td>Credit Card</td>\n",
       "    </tr>\n",
       "    <tr>\n",
       "      <th>1</th>\n",
       "      <td>10002</td>\n",
       "      <td>1/2/2024</td>\n",
       "      <td>Home Appliances</td>\n",
       "      <td>Dyson V11 Vacuum</td>\n",
       "      <td>1</td>\n",
       "      <td>499.99</td>\n",
       "      <td>499.99</td>\n",
       "      <td>Europe</td>\n",
       "      <td>PayPal</td>\n",
       "    </tr>\n",
       "    <tr>\n",
       "      <th>2</th>\n",
       "      <td>10003</td>\n",
       "      <td>1/3/2024</td>\n",
       "      <td>Clothing</td>\n",
       "      <td>Levi's 501 Jeans</td>\n",
       "      <td>3</td>\n",
       "      <td>69.99</td>\n",
       "      <td>209.97</td>\n",
       "      <td>Asia</td>\n",
       "      <td>Debit Card</td>\n",
       "    </tr>\n",
       "    <tr>\n",
       "      <th>3</th>\n",
       "      <td>10004</td>\n",
       "      <td>1/4/2024</td>\n",
       "      <td>Books</td>\n",
       "      <td>The Da Vinci Code</td>\n",
       "      <td>4</td>\n",
       "      <td>15.99</td>\n",
       "      <td>63.96</td>\n",
       "      <td>North America</td>\n",
       "      <td>Credit Card</td>\n",
       "    </tr>\n",
       "    <tr>\n",
       "      <th>4</th>\n",
       "      <td>10005</td>\n",
       "      <td>1/5/2024</td>\n",
       "      <td>Beauty Products</td>\n",
       "      <td>Neutrogena Skincare Set</td>\n",
       "      <td>1</td>\n",
       "      <td>89.99</td>\n",
       "      <td>89.99</td>\n",
       "      <td>Europe</td>\n",
       "      <td>PayPal</td>\n",
       "    </tr>\n",
       "  </tbody>\n",
       "</table>\n",
       "</div>"
      ],
      "text/plain": [
       "   Transaction_ID      Date Product_Category             Product_Name  \\\n",
       "0           10001  1/1/2024      Electronics            iPhone 14 Pro   \n",
       "1           10002  1/2/2024  Home Appliances         Dyson V11 Vacuum   \n",
       "2           10003  1/3/2024         Clothing         Levi's 501 Jeans   \n",
       "3           10004  1/4/2024            Books        The Da Vinci Code   \n",
       "4           10005  1/5/2024  Beauty Products  Neutrogena Skincare Set   \n",
       "\n",
       "   Units_Sold  Unit_Price  Total_Revenue         Region Payment_Method  \n",
       "0           2      999.99        1999.98  North America    Credit Card  \n",
       "1           1      499.99         499.99         Europe         PayPal  \n",
       "2           3       69.99         209.97           Asia     Debit Card  \n",
       "3           4       15.99          63.96  North America    Credit Card  \n",
       "4           1       89.99          89.99         Europe         PayPal  "
      ]
     },
     "execution_count": 3,
     "metadata": {},
     "output_type": "execute_result"
    }
   ],
   "source": [
    "# Print shape and first rows from Pandas dataframe\n",
    "print(sales_data.shape)\n",
    "sales_data.head()"
   ]
  },
  {
   "cell_type": "code",
   "execution_count": null,
   "id": "6b8435c2",
   "metadata": {},
   "outputs": [],
   "source": []
  }
 ],
 "metadata": {
  "kernelspec": {
   "display_name": "Python 3 (ipykernel)",
   "language": "python",
   "name": "python3"
  },
  "language_info": {
   "codemirror_mode": {
    "name": "ipython",
    "version": 3
   },
   "file_extension": ".py",
   "mimetype": "text/x-python",
   "name": "python",
   "nbconvert_exporter": "python",
   "pygments_lexer": "ipython3",
   "version": "3.9.12"
  }
 },
 "nbformat": 4,
 "nbformat_minor": 5
}
